{
  "nbformat": 4,
  "nbformat_minor": 0,
  "metadata": {
    "accelerator": "GPU",
    "colab": {
      "name": "s5_test_face_trainer.ipynb",
      "provenance": [],
      "collapsed_sections": []
    },
    "kernelspec": {
      "display_name": "Python 3",
      "name": "python3"
    }
  },
  "cells": [
    {
      "cell_type": "markdown",
      "metadata": {
        "id": "mKDzxwVueEkU"
      },
      "source": [
        "## Evaluate the trained network (Week 12) - Step 5\n",
        "\n",
        "####**Designed by Joon Son Chung, November 2020**\n",
        "\n",
        "This is based on https://github.com/joonson/face_trainer.\n",
        "\n",
        "In this step, we evaluate the model trained in Step 4. Change `initial_model` to the saved model that you want to evaluate. You should only test the model that gives the best validation performance during training.\n",
        "\n"
      ]
    },
    {
      "cell_type": "code",
      "metadata": {
        "id": "gRz0Qx2JeCls"
      },
      "source": [
        "from google.colab import drive\n",
        "from zipfile import ZipFile\n",
        "from tqdm import tqdm\n",
        "import os, glob, sys, shutil, time\n",
        "import torch\n",
        "import torchvision.transforms as transforms\n",
        "import torchvision.models as models\n",
        "from PIL import Image\n",
        "\n",
        "# mount Google Drive\n",
        "drive.mount('/content/drive', force_remount=True)\n",
        "\n",
        "# path of the data directory relative to the home folder of Google Drive\n",
        "GDRIVE_HOME = '/content/drive/My Drive'\n",
        "FOLDER      = 'MLVU/your_dataset'\n",
        "\n",
        "# The following 4 lines are the only parts of the code that you need to change. You can simply run the rest.\n",
        "data_dir      = os.path.join(GDRIVE_HOME,FOLDER) ## path of the general experiment\n",
        "initial_model = os.path.join(GDRIVE_HOME,'MLVU/res18_vggface1_baseline.model') ## path to the pre-trained model\n",
        "test_zip      = os.path.join(data_dir,'test_data.zip') ## test data as zip\n",
        "\n",
        "# Extract the cropped images\n",
        "with ZipFile(test_zip, 'r') as zipObj:\n",
        "  zipObj.extractall(\"/test_set\")\n",
        "print('Zip extraction complete')"
      ],
      "execution_count": null,
      "outputs": []
    },
    {
      "cell_type": "markdown",
      "metadata": {
        "id": "H34dIrXThcXj"
      },
      "source": [
        "Make sure that the files have been extracted properly. Make sure that this is a reasonable number."
      ]
    },
    {
      "cell_type": "code",
      "metadata": {
        "id": "MlZoUu8YcY2X"
      },
      "source": [
        "test_files  = glob.glob('/test_set/*/*.jpg')\n",
        "print(len(test_files),'test set files found.')"
      ],
      "execution_count": null,
      "outputs": []
    },
    {
      "cell_type": "markdown",
      "metadata": {
        "id": "zbh2C1LW5vHJ"
      },
      "source": [
        "First, clone the face recognition trainer from GitHub and add it to path."
      ]
    },
    {
      "cell_type": "code",
      "metadata": {
        "id": "jSpkzVfubKbV"
      },
      "source": [
        "!rm -rf face_trainer\n",
        "!git clone https://github.com/joonson/face_trainer.git\n",
        "\n",
        "sys.path.append('face_trainer')"
      ],
      "execution_count": null,
      "outputs": []
    },
    {
      "cell_type": "markdown",
      "metadata": {
        "id": "3djEvathdr4t"
      },
      "source": [
        "The evaluation script. Please do not change, but try to read and understand."
      ]
    },
    {
      "cell_type": "code",
      "metadata": {
        "id": "tQIfpumRdsM1"
      },
      "source": [
        "import datetime\n",
        "from utils import *\n",
        "from EmbedNet import *\n",
        "import torchvision.transforms as transforms\n",
        "\n",
        "# ## ===== ===== ===== ===== ===== ===== ===== =====\n",
        "# ## Evaluation script\n",
        "# ## ===== ===== ===== ===== ===== ===== ===== =====\n",
        "\n",
        "def test_network(args):\n",
        "\n",
        "    ## Load models\n",
        "    s = EmbedNet(**vars(args)).cuda();\n",
        "\n",
        "    ## Input transformations for evaluation\n",
        "    test_transform = transforms.Compose(\n",
        "        [transforms.ToTensor(),\n",
        "         transforms.Resize(256),\n",
        "         transforms.CenterCrop([224,224]),\n",
        "         transforms.Normalize(mean=[0.485, 0.456, 0.406], std=[0.229, 0.224, 0.225])])\n",
        "\n",
        "    ## Initialise trainer\n",
        "    trainer     = ModelTrainer(s, **vars(args))\n",
        "\n",
        "    ## Load model weights\n",
        "    trainer.loadParameters(args.initial_model);\n",
        "    print(\"Model %s loaded!\"%args.initial_model);\n",
        "\n",
        "    sc, lab = trainer.evaluateFromList(transform=test_transform, **vars(args))\n",
        "    result = tuneThresholdfromScore(sc, lab, [1, 0.1]);\n",
        "\n",
        "    print('EER %2.4f'%(result[1]))"
      ],
      "execution_count": null,
      "outputs": []
    },
    {
      "cell_type": "markdown",
      "metadata": {
        "id": "bPR-wqIRPEuZ"
      },
      "source": [
        "Use the script below to evaluate the trained network.\n"
      ]
    },
    {
      "cell_type": "code",
      "metadata": {
        "id": "blMxjMJYM5QG"
      },
      "source": [
        "import easydict \n",
        "args = easydict.EasyDict({\"nDataLoaderThread\": 5, \n",
        "                          \"initial_model\": initial_model,\n",
        "                          \"model\": \"ResNet18\",\n",
        "                          \"nOut\": 512,\n",
        "                          \"test_path\": \"/test_set\",\n",
        "                          \"test_list\": \"/test_set/test_list.csv\",\n",
        "                          # The arguments below are necessary to initiate the trainer instance, \n",
        "                          # but do not affect the test phase.\n",
        "                          \"trainfunc\": \"softmax\",\n",
        "                          \"optimizer\": \"adam\",\n",
        "                          \"scheduler\": \"steplr\",\n",
        "                          \"lr\": 0.001,\n",
        "                          \"lr_decay\": 1,\n",
        "                          \"test_interval\": 5,\n",
        "                          \"max_epoch\": 50,\n",
        "                          \"weight_decay\": 0,\n",
        "                          \"nPerClass\": 1,\n",
        "                          \"nClasses\": 2622,\n",
        "                          \"mixedprec\": False})\n",
        "        \n",
        "test_network(args)"
      ],
      "execution_count": null,
      "outputs": []
    }
  ]
}